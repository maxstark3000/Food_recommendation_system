{
 "cells": [
  {
   "cell_type": "code",
   "execution_count": 125,
   "metadata": {},
   "outputs": [],
   "source": [
    "import pandas as pd\n",
    "import numpy as np\n",
    "import math"
   ]
  },
  {
   "cell_type": "code",
   "execution_count": 126,
   "metadata": {},
   "outputs": [],
   "source": [
    "# Cấu hình Pandas để hiển thị rộng hơn\n",
    "pd.set_option('display.width', 1000)  # Tăng chiều rộng hiển thị (thử các giá trị lớn hơn nếu cần)\n",
    "pd.set_option('display.max_columns', None)  # Hiển thị tất cả các cột\n",
    "pd.set_option('display.expand_frame_repr', False) # Không xuống dòng DataFrame\n",
    "\n",
    "def recommend_food(excel_file, calories_prompt_per100=None, ingredient_prompt=None, user_type_prompt=None, taste_prompt=None, negative_prompt=None, top_n=5, desired_calories=None):\n",
    "    \"\"\"\n",
    "    Đề xuất món ăn từ file Excel, sắp xếp theo điểm, ngẫu nhiên trong nhóm điểm số cao nhất, và tính toán serving size.\n",
    "    \"\"\"\n",
    "\n",
    "    excel_data = pd.read_excel(excel_file, sheet_name=None)\n",
    "    df = pd.concat(excel_data.values(), ignore_index=True)\n",
    "    df['Ranking Score'] = 0\n",
    "\n",
    "    if calories_prompt_per100 is not None:\n",
    "        calories_first_digit_prompt = str(int(calories_prompt_per100)).split('.')[0][0]\n",
    "        df['Calories/Serving_str_first_digit'] = df['Calories/Serving'].astype(str).str[0]\n",
    "        df = df[df['Calories/Serving_str_first_digit'] == calories_first_digit_prompt]\n",
    "        df = df.drop(columns=['Calories/Serving_str_first_digit'])\n",
    "\n",
    "    if ingredient_prompt:\n",
    "        ingredients = [ing.strip().lower() for ing in ingredient_prompt.split(',')]\n",
    "        for ingredient in ingredients:\n",
    "            df.loc[df['Ingredients'].str.lower().str.contains(ingredient, na=False), 'Ranking Score'] += 1\n",
    "    if user_type_prompt:\n",
    "        user_types = [ut.strip().lower() for ut in user_type_prompt.split(',')]\n",
    "        for user_type in user_types:\n",
    "            df.loc[df['User type'].str.lower().str.contains(user_type, na=False), 'Ranking Score'] += 1\n",
    "    if taste_prompt:\n",
    "        tastes = [t.strip().lower() for t in taste_prompt.split(',')]\n",
    "        for taste in tastes:\n",
    "            df.loc[df['Taste'].str.lower().str.contains(taste, na=False), 'Ranking Score'] += 1\n",
    "\n",
    "    if negative_prompt:\n",
    "        if 'Ingredient' in negative_prompt and negative_prompt['Ingredient']:\n",
    "            neg_ingredients = [ing.strip().lower() for ing in negative_prompt['Ingredient'].split(',')]\n",
    "            for neg_ingredient in neg_ingredients:\n",
    "                df = df[~df['Ingredients'].str.lower().str.contains(neg_ingredient, na=False)]\n",
    "        if 'User Type' in negative_prompt and negative_prompt['User Type']:\n",
    "            neg_user_types = [ut.strip().lower() for ut in negative_prompt['User Type'].split(',')]\n",
    "            for neg_user_type in neg_user_types:\n",
    "                df = df[~df['User type'].str.lower().str.contains(neg_user_type, na=False)]\n",
    "        if 'Taste' in negative_prompt and negative_prompt['Taste']:\n",
    "            neg_tastes = [t.strip().lower() for t in negative_prompt['Taste'].split(',')]\n",
    "            for neg_taste in neg_tastes:\n",
    "                df = df[~df['Taste'].str.lower().str.contains(neg_taste, na=False)]\n",
    "\n",
    "    ranked_df = df.sort_values(by='Ranking Score', ascending=False).reset_index(drop=True)\n",
    "    columns_to_drop = ['No'] + ['Serving'] + ['Calories']\n",
    "    ranked_df = ranked_df.drop(columns=columns_to_drop, errors='ignore')\n",
    "\n",
    "    max_score = ranked_df['Ranking Score'].max()\n",
    "    max_score_group = ranked_df[ranked_df['Ranking Score'] == max_score]\n",
    "    remaining_df = ranked_df[ranked_df['Ranking Score'] != max_score]\n",
    "\n",
    "    shuffled_max_score_group = max_score_group.sample(frac=1)\n",
    "\n",
    "    ranked_df = pd.concat([shuffled_max_score_group, remaining_df]).reset_index(drop=True)\n",
    "\n",
    "    ranked_df = ranked_df.head(top_n)\n",
    "\n",
    "    if desired_calories is not None:\n",
    "        ranked_df['Serving Size (grams)'] = (desired_calories / ranked_df['Calories/Serving']).apply(math.ceil).astype(str) + \" gram\"\n",
    "\n",
    "    return ranked_df"
   ]
  },
  {
   "cell_type": "code",
   "execution_count": 127,
   "metadata": {},
   "outputs": [],
   "source": [
    "excel_file_path = 'food-ver2.xlsx'\n",
    "\n",
    "# Input của người dùng\n",
    "user_ingredient_prompt = 'beef, cheese'\n",
    "user_user_type_prompt = 'athlete'\n",
    "user_taste_prompt = 'rich'\n",
    "user_negative_prompt = {'Taste': 'tender'} \n",
    "user_desired_calories = 400"
   ]
  },
  {
   "cell_type": "code",
   "execution_count": 132,
   "metadata": {},
   "outputs": [
    {
     "name": "stdout",
     "output_type": "stream",
     "text": [
      "                                        Food          Serving.1 Calories.1  Calories/Serving                                        Ingredients              User type                       Taste State  Ranking Score Serving Size (grams)\n",
      "0                               Cheeseburger    1 piece (200 g)    563 cal              2.81                                  beef, cheese, bun  gain, athlete, normal  juicy, rich, salty, savory     R              4             143 gram\n",
      "1                      Whopper (Burger King)    1 piece (291 g)    678 cal              2.33  beef, bun, cheese, lettuce, mayonnaise, pickle...          gain, athlete  juicy, rich, salty, savory     R              4             172 gram\n",
      "2                       Big Mac (McDonald's)    1 piece (220 g)    569 cal              2.59  beef patties, cheese, lettuce, pickles, sesame...          gain, athlete         rich, salty, savory     R              4             155 gram\n",
      "3  Double Whopper, with cheese (Burger King)    1 piece (399 g)   1061 cal              2.66  beef, cheese, mayonnaise, pickles, sesame seed...          gain, athlete  juicy, rich, salty, savory     R              4             151 gram\n",
      "4                        Philly Cheese Steak  1 portion (113 g)    240 cal              2.12                        beef, cheese, peppers, roll          gain, athlete         juicy, rich, savory     R              4             189 gram\n"
     ]
    }
   ],
   "source": [
    "# Gọi hàm đề xuất\n",
    "recommended_foods = recommend_food(\n",
    "    excel_file=excel_file_path,\n",
    "    ingredient_prompt=user_ingredient_prompt,\n",
    "    user_type_prompt=user_user_type_prompt,\n",
    "    taste_prompt=user_taste_prompt,\n",
    "    negative_prompt=user_negative_prompt,\n",
    "    top_n=5,\n",
    "    desired_calories=user_desired_calories\n",
    ")\n",
    "print(recommended_foods)"
   ]
  },
  {
   "cell_type": "code",
   "execution_count": null,
   "metadata": {},
   "outputs": [],
   "source": []
  },
  {
   "cell_type": "code",
   "execution_count": null,
   "metadata": {},
   "outputs": [],
   "source": []
  },
  {
   "cell_type": "code",
   "execution_count": null,
   "metadata": {},
   "outputs": [],
   "source": []
  },
  {
   "cell_type": "code",
   "execution_count": null,
   "metadata": {},
   "outputs": [],
   "source": []
  },
  {
   "cell_type": "code",
   "execution_count": null,
   "metadata": {},
   "outputs": [],
   "source": []
  }
 ],
 "metadata": {
  "kernelspec": {
   "display_name": "Python 3",
   "language": "python",
   "name": "python3"
  },
  "language_info": {
   "codemirror_mode": {
    "name": "ipython",
    "version": 3
   },
   "file_extension": ".py",
   "mimetype": "text/x-python",
   "name": "python",
   "nbconvert_exporter": "python",
   "pygments_lexer": "ipython3",
   "version": "3.11.9"
  }
 },
 "nbformat": 4,
 "nbformat_minor": 2
}
